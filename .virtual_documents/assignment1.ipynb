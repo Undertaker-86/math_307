


import numpy as np
import scipy.linalg as la
import matplotlib.pyplot as plt





# YOUR CODE HERE
A1 = np.array([[1, 5, 2], [-1, 2, 3], [6, -2, -1]])
b = np.array([2, 5, 1])
display(A1)
display(b)
x1 = la.solve(A1, b)
x1


"Verify type and size of x1. (1 mark)"
assert isinstance(x1,np.ndarray) , "x1 should be a NumPy array."
assert x1.size == 3 , "x1 should be a vector length 3."
print("Problem 1 Test 1: Success!")


"Verify values of x1. This cell contains hidden tests. (1 mark)"
assert np.allclose(x1[0],0.34782609) , "The first entry of x1 should be 0.34782609."
print("Problem 1 Test 2: Success!")








# YOUR CODE HERE
N = 50;
A2 = np.diag(np.full(N, 2)) + np.diag(np.full(N-1, -1), k = 1) + np.diag(np.full(N-1, -1), k = -1)
A2


"Verify type of A2. (1 mark)"
assert isinstance(A2,np.ndarray)
print("Problem 2a Test 1: Success!")


"Verify shape of A2. (1 mark)"
assert A2.shape == (50,50) , "A2 should be a 50 by 50 matrix."
print("Problem 2a Test 2: Success!")


"Verify values of A2. This cell contains hidden tests. (1 mark)"
assert np.allclose(A2[:2,:2],[[2,-1],[-1,2]]) , "Top left entries of A2 should be [[2,-1],[-1,2]]."
print("Problem 2a Test 3: Success!")





# YOUR CODE HERE
P2, L2, U2 = la.lu(A2)


"Verify P2 is the identity matrix. (1 mark)"
assert np.allclose(P2,np.eye(50)) , "P2 should be the identity matrix of size 50."
print("Problem 2b Test 1: Success!")


"Verify size of L2 and U2. (1 mark)"
assert L2.shape == (50,50) , "L2 should be a 50 by 50 matrix."
assert U2.shape == (50,50) , "U2 should be a 50 by 50 matrix."
print("Problem 2b Test 2: Success!")


"Verify values of L2 and U2. This cell contains hidden tests. (1 mark)"
assert np.allclose(L2[:2,:2],[[1,0],[-0.5,1]]) , "Top left entries of L2 should be [[1,0],[-0.5,1]]"
assert np.allclose(U2[:2,:2],[[2,-1],[0,1.5]]) , "Top left entries of U2 should be [[2,-1],[0,1.5]]"
print("Problem 2b Test 3: Success!")





V = 12
N = 50
b2 = V*np.ones((N,1))


get_ipython().run_cell_magic("timeit", "", """
# Solve system directly by Gaussian elimination
x2 = la.solve(A2,b2)""")


get_ipython().run_cell_magic("timeit", "", """
# Solve system with forward/backward substitution given LU decompositon 
y2 = la.solve_triangular(L2,b2,lower=True)
x2 = la.solve_triangular(U2,y2,lower=False)""")





# YOUR CODE HERE
observation2c = True


"Verify value of observation2c. This cell contains hidden tests. (1 mark)"
assert isinstance(observation2c, bool) , "observation2c should be True or False."
print("Problem 2c Test 1: Success!")





# Solve system with forward/backward substitution given LU decompositon 
y2 = la.solve_triangular(L2,b2,lower=True)
x2 = la.solve_triangular(U2,y2,lower=False)
plt.bar(range(len(x2)),x2.flatten())
plt.show()








# YOUR CODE HERE
N = 20
c = 8
A3 = np.diag(np.full(N, c), 0) + np.diag(np.full(N-1, 1.0), 1) + np.diag(np.full(N-1, 1.0), -1)
C3 = np.linalg.cond(A3)
C3


"Verify type of C3. (1 mark)"
assert isinstance(C3,np.float64) , "C3 should be a NumPy float."
print("Problem 3a Test 1: Success!")


"Verify value of C3. This cell contains hidden tests. (1 mark)"
assert np.round(C3,1) == 1.7 , "C3 should be 1.7 rounded to 1 decimal place."
print("Problem 3a Test 2: Success!")





# Plotting the condition number of A3

def create_A3(N, c):
    x = np.diag(np.full(N, c), 0) + np.diag(np.full(N-1, 1.0), 1) + np.diag(np.full(N-1, 1.0), -1)
    return x

C_value = np.zeros(101)
x_axis = np.arange(101)
for i in x_axis:
    C_value[i] = np.linalg.cond(create_A3(N, i))

plt.plot(x_axis, C_value)
plt.xlabel("X")
plt.ylabel("Condition Number")
plt.title("Condition Number as a Function of c in Matrix A3")
plt.yticks(np.arange(0, 10+1, 1.0))
plt.ylim([0, 10])
plt.show

C_value[90:101] # looks like it is converging to 1


# YOUR CODE HERE
observation3b = True


"Verify type of observation3b. (1 mark)"
assert isinstance(observation3b,bool) , "observation3b should be either True or False"
print("Problem 3b Test 1: Success!")


"Verify value of observation3b. This cell contains hidden tests. (1 mark)"
assert isinstance(observation3b,bool) , "observation3b should be either True or False"
print("Problem 3b Test 2: Success!")





# YOUR CODE HERE
def create_vander(N):
    arr = np.arange(N);
    x = np.vander(arr, N)
    return x

# np.linalg.cond(create_vander(4))

vander_value = np.arange(11)
x_axis = np.arange(11)

for i in x_axis:
    if i == 0:
        vander_value[i] = np.linalg.cond(np.vander([0], 1))
    else:
        vander_value[i] = np.linalg.cond(create_vander(i))

plt.stem(x_axis, vander_value)
plt.xlabel("N")
plt.ylabel("Condition Number")
plt.title("Vandermonde Condition Number")
plt.axhline(y=1e10, color="red", linestyle="--", label=r"10^{10} line")
plt.axvline(x=10, color="g", linestyle="--", label=r"Smallest N")
plt.legend()
plt.show

N4 = 10


"Verify type of N4. (1 mark)"
assert isinstance(N4,int) , "N4 should be an integer"
print("Problem 4 Test 1: Success!")


"Verify value of N4. This cell contains hidden tests. (1 mark)"
assert N4 > 0 , "N4 should be an integer"
print("Problem 4 Test 2: Success!")





day = [1,2,3,4,5,6,9,10,11,12,14,15,16,17,18,19,20,21,22,23,24,25,26,29,30]
temperature = [-31.3,-30.9,-30.2,-30.5,-26.8,-28.0,-30.8,-23.4,-18.3,-19.6,-25.1,-21.9,-25.9,-29.4,-28.7,-22.7,-23.1,-19.6,-21.1,-14.8,-15.6,-11.8,-11.2,-15.1,-13.7]

plt.figure(figsize=(14,5))
plt.plot(day,temperature,'.')
plt.title('Average Daily Temperature, Alert, Nunavut (April 2006)')
plt.xlabel('Day'), plt.ylabel('Temperature (C)')
plt.grid(True)
plt.show()





from scipy.interpolate import CubicSpline
# YOUR CODE HERE
p5 = CubicSpline(day, temperature, bc_type="natural")


"Verify type of p5. (1 mark)"
assert isinstance(p5,CubicSpline) , "p5 should be a CubicSpline object."
print("Problem 5a Test 1: Success!")


"Verify the coefficient matrix of p5. This cell contains hidden tests. (1 mark)"
assert p5.c.shape == (4,24) , "Coefficient of matrix should be 4 by 24."
print("Problem 5a Test 2: Success!")





plt.figure(figsize=(14,5))
d = np.linspace(1,30,200)
t = p5(d)
plt.plot(d,t,'r')
plt.plot(day,temperature,'.b')
plt.title('Average Daily Temperature in Alert, Nunavut (April 2006)')
plt.xlabel('Day'), plt.ylabel('Temperature (C)')
plt.grid(True)
plt.show()





# YOUR CODE HERE
T27 = p5(27)
T27


"Verify the value of T27. This cell contains hidden tests. (1 mark)"
assert T27 < 0 , "The temperature should be below 0."
print("Problem 5b Test 1: Success!")





t = [ 0.0, 0.2, 0.4, 0.6, 0.8, 1.0 ]
y = [ 0.86198775, 0.42221378, 0.67085031, 0.81337281, 0.06133098, 0.18599908 ]
plt.plot(t,y,'b.'), plt.grid(True)
plt.show()





# YOUR CODE HERE
A6 = np.array([[1, np.cos(np.pi * i),np.cos(2 * np.pi * i), np.cos(3 * np.pi * i), np.cos(4 * np.pi * i),np.cos(5 * np.pi * i) ] for i in t])
print(A6)


"Verify the type of A6. (1 mark)"
assert isinstance(A6,np.ndarray) , "A6 should be a NumPy array."
print("Problem 6a Test 1: Success!")


"Verify the shape of A6. (1 mark)"
assert A6.shape == (6,6), "A6 should be a 6 by 6 NumPy array."
print("Problem 6a Test 2: Success!")


"Verify values of A1. This cell contains hidden tests. (1 mark)"
assert np.allclose(A6[:2,:2],[[1,1],[1,0.80901699]]) , "Top left entries of A6 shold be [[1,1],[1,0.80901699]]."
print("Problem 6a Test 3: Success!")





# YOUR CODE HERE
c6 = scipy.linalg.solve(A6, y)
c6


"Verify the type of c6. (1 mark)"
assert isinstance(c6,np.ndarray) , "c6 should be a NumPy array"
print("Problem 6b Test 1: Success!")


"Verify the size of c6. (1 mark)"
assert c6.size == 6 , "c6 should have length 6."
print("Problem 6b Test 2: Success!")


"Verify values of c6. This cell contains hidden tests. (1 mark)"
assert np.allclose(c6[0],0.49835226) , "First coefficient of c6 should be 0.49835226."
print("Problem 6b Test 3: Success!")





t = [ 0.0, 0.2, 0.4, 0.6, 0.8, 1.0 ]
y = [ 0.86198775, 0.42221378, 0.67085031, 0.81337281, 0.06133098, 0.18599908 ]
T = np.linspace(0,1,100)
Y = sum([c6[k]*np.cos(k*np.pi*T) for k in range(0,len(c6))])
plt.plot(T,Y,'r',t,y,'b.'), plt.grid(True)
plt.show()
