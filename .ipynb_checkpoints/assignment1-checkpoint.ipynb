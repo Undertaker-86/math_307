{
 "cells": [
  {
   "cell_type": "markdown",
   "id": "2feb0633",
   "metadata": {
    "deletable": false,
    "editable": false,
    "nbgrader": {
     "cell_type": "markdown",
     "checksum": "304962262ccca87733a3a83aeda2c812",
     "grade": false,
     "grade_id": "cell-9d9f861d5df33045",
     "locked": true,
     "schema_version": 3,
     "solution": false,
     "task": false
    }
   },
   "source": [
    "# MATH 307 Assignment 1\n",
    "\n",
    "* See [Mathematical Python](https://patrickwalls.github.io/mathematicalpython/) for an introduction to Python and Jupyter\n",
    "* See [MATH 307 Jupyter Notebooks](https://ubcmath.github.io/MATH307/) for examples\n",
    "* Run the tests to verify your solutions\n",
    "* There are **hidden tests** therefore your solutions may not be entirely correct even if they pass the tests below\n",
    "* Submit your `.ipynb` notebook file to Canvas"
   ]
  },
  {
   "cell_type": "code",
   "execution_count": 1,
   "id": "54e1f731",
   "metadata": {
    "deletable": false,
    "editable": false,
    "nbgrader": {
     "cell_type": "code",
     "checksum": "1f802a877d6215302f0be4399d423292",
     "grade": false,
     "grade_id": "cell-f5dcc51c99d35950",
     "locked": true,
     "schema_version": 3,
     "solution": false,
     "task": false
    },
    "tags": []
   },
   "outputs": [],
   "source": [
    "import numpy as np\n",
    "import scipy.linalg as la\n",
    "import matplotlib.pyplot as plt"
   ]
  },
  {
   "cell_type": "markdown",
   "id": "5e0ccccd",
   "metadata": {
    "deletable": false,
    "editable": false,
    "nbgrader": {
     "cell_type": "markdown",
     "checksum": "1040fd31718a19e9144884b5f8bf2607",
     "grade": false,
     "grade_id": "cell-b3d15635210c2adb",
     "locked": true,
     "schema_version": 3,
     "solution": false,
     "task": false
    }
   },
   "source": [
    "## Problem 1 (2 marks)\n",
    "\n",
    "Use the function `scipy.linalg.solve` (see the [documentation](https://docs.scipy.org/doc/scipy/reference/generated/scipy.linalg.solve.html)) to compute the solution $\\mathbf{x}$ of the linear system $A_1 \\mathbf{x}_1 = \\mathbf{b}_1$ where\n",
    "\n",
    "$$\n",
    "A_1 = \\left[ \\begin{array}{rrr} 1 & 5 & 2 \\\\ -1 & 2 & 3 \\\\ 6 & -2 & -1 \\end{array} \\right]\n",
    "\\hspace{10mm}\n",
    "\\mathbf{b}_1 = \\begin{bmatrix} 2 \\\\ 5 \\\\ 1 \\end{bmatrix}\n",
    "$$\n",
    "\n",
    "Save the result as `x1`."
   ]
  },
  {
   "cell_type": "code",
   "execution_count": 2,
   "id": "8de45359",
   "metadata": {
    "deletable": false,
    "nbgrader": {
     "cell_type": "code",
     "checksum": "70d73cb536904cedc0c8f4371fad2dae",
     "grade": false,
     "grade_id": "cell-4af40a650494f285",
     "locked": false,
     "schema_version": 3,
     "solution": true,
     "task": false
    },
    "tags": []
   },
   "outputs": [
    {
     "data": {
      "text/plain": [
       "array([[ 1,  5,  2],\n",
       "       [-1,  2,  3],\n",
       "       [ 6, -2, -1]])"
      ]
     },
     "metadata": {},
     "output_type": "display_data"
    },
    {
     "data": {
      "text/plain": [
       "array([2, 5, 1])"
      ]
     },
     "metadata": {},
     "output_type": "display_data"
    },
    {
     "data": {
      "text/plain": [
       "array([ 0.34782609, -0.52173913,  2.13043478])"
      ]
     },
     "execution_count": 2,
     "metadata": {},
     "output_type": "execute_result"
    }
   ],
   "source": [
    "# YOUR CODE HERE\n",
    "A1 = np.array([[1, 5, 2], [-1, 2, 3], [6, -2, -1]])\n",
    "b = np.array([2, 5, 1])\n",
    "display(A1)\n",
    "display(b)\n",
    "x1 = la.solve(A1, b)\n",
    "x1"
   ]
  },
  {
   "cell_type": "code",
   "execution_count": 3,
   "id": "0dbab713",
   "metadata": {
    "deletable": false,
    "editable": false,
    "nbgrader": {
     "cell_type": "code",
     "checksum": "ce60d5227a377c7c3d4abb714e66b916",
     "grade": true,
     "grade_id": "cell-dbb97ccf2fb51bd4",
     "locked": true,
     "points": 1,
     "schema_version": 3,
     "solution": false,
     "task": false
    },
    "tags": []
   },
   "outputs": [
    {
     "name": "stdout",
     "output_type": "stream",
     "text": [
      "Problem 1 Test 1: Success!\n"
     ]
    }
   ],
   "source": [
    "\"Verify type and size of x1. (1 mark)\"\n",
    "assert isinstance(x1,np.ndarray) , \"x1 should be a NumPy array.\"\n",
    "assert x1.size == 3 , \"x1 should be a vector length 3.\"\n",
    "print(\"Problem 1 Test 1: Success!\")"
   ]
  },
  {
   "cell_type": "code",
   "execution_count": 4,
   "id": "54fde0e6",
   "metadata": {
    "deletable": false,
    "editable": false,
    "nbgrader": {
     "cell_type": "code",
     "checksum": "5fdc3d8725c92776d01369e439358a72",
     "grade": true,
     "grade_id": "cell-58b21cde57f4a26d",
     "locked": true,
     "points": 1,
     "schema_version": 3,
     "solution": false,
     "task": false
    },
    "tags": []
   },
   "outputs": [
    {
     "name": "stdout",
     "output_type": "stream",
     "text": [
      "Problem 1 Test 2: Success!\n"
     ]
    }
   ],
   "source": [
    "\"Verify values of x1. This cell contains hidden tests. (1 mark)\"\n",
    "assert np.allclose(x1[0],0.34782609) , \"The first entry of x1 should be 0.34782609.\"\n",
    "print(\"Problem 1 Test 2: Success!\")"
   ]
  },
  {
   "cell_type": "markdown",
   "id": "4ee915fd",
   "metadata": {
    "deletable": false,
    "editable": false,
    "nbgrader": {
     "cell_type": "markdown",
     "checksum": "0f25205433b1b5e64623c1679f390881",
     "grade": false,
     "grade_id": "cell-e2b1388d683c55ab",
     "locked": true,
     "schema_version": 3,
     "solution": false,
     "task": false
    }
   },
   "source": [
    "## Problem 2 (7 marks)\n",
    "\n",
    "Consider the $N \\times N$ matrix\n",
    "\n",
    "$$\n",
    "A_2 =  \\left[ \\begin{array}{rrrrr}\n",
    "2 & -1 & & & \\\\\n",
    "-1 & 2 & -1 & & \\\\\n",
    "& \\ddots & \\ddots & \\ddots & \\\\\n",
    "& & -1 & 2 & -1 \\\\\n",
    "& & & -1 & 2 \\\\\n",
    "\\end{array}\n",
    "\\right]\n",
    "$$\n",
    "\n",
    "In other words, $A_2$ is the matrix with 2 in all main diagonal entries, -1 in all upper and lower diagonal entries, and 0 everywhere else."
   ]
  },
  {
   "cell_type": "markdown",
   "id": "305ca101",
   "metadata": {
    "deletable": false,
    "editable": false,
    "nbgrader": {
     "cell_type": "markdown",
     "checksum": "ad2c02462a79323b537d9e76b708a975",
     "grade": false,
     "grade_id": "cell-cfd12774f45d4eb0",
     "locked": true,
     "schema_version": 3,
     "solution": false,
     "task": false
    }
   },
   "source": [
    "### Problem 2a (3 marks)\n",
    "\n",
    "Use the function `np.diag` (see [documentation](https://numpy.org/doc/stable/reference/generated/numpy.diag.html)) to construct the matrix $A_2$ for $N = 50$. Save the result as `A2`."
   ]
  },
  {
   "cell_type": "code",
   "execution_count": 5,
   "id": "e12e7fd6",
   "metadata": {
    "deletable": false,
    "nbgrader": {
     "cell_type": "code",
     "checksum": "af7acdf3d263b5ba2e2210ba6f722bc2",
     "grade": false,
     "grade_id": "cell-4bfc8539721fbb59",
     "locked": false,
     "schema_version": 3,
     "solution": true,
     "task": false
    }
   },
   "outputs": [
    {
     "data": {
      "text/plain": [
       "array([[ 2, -1,  0, ...,  0,  0,  0],\n",
       "       [-1,  2, -1, ...,  0,  0,  0],\n",
       "       [ 0, -1,  2, ...,  0,  0,  0],\n",
       "       ...,\n",
       "       [ 0,  0,  0, ...,  2, -1,  0],\n",
       "       [ 0,  0,  0, ..., -1,  2, -1],\n",
       "       [ 0,  0,  0, ...,  0, -1,  2]])"
      ]
     },
     "execution_count": 5,
     "metadata": {},
     "output_type": "execute_result"
    }
   ],
   "source": [
    "# YOUR CODE HERE\n",
    "N = 50;\n",
    "A2 = np.diag(np.full(N, 2)) + np.diag(np.full(N-1, -1), k = 1) + np.diag(np.full(N-1, -1), k = -1)\n",
    "A2"
   ]
  },
  {
   "cell_type": "code",
   "execution_count": 6,
   "id": "14e2af8c",
   "metadata": {
    "deletable": false,
    "editable": false,
    "nbgrader": {
     "cell_type": "code",
     "checksum": "ff64dd0936c01d9a72eb8727d73d048a",
     "grade": true,
     "grade_id": "cell-2944ab7392ff9d45",
     "locked": true,
     "points": 1,
     "schema_version": 3,
     "solution": false,
     "task": false
    }
   },
   "outputs": [
    {
     "name": "stdout",
     "output_type": "stream",
     "text": [
      "Problem 2a Test 1: Success!\n"
     ]
    }
   ],
   "source": [
    "\"Verify type of A2. (1 mark)\"\n",
    "assert isinstance(A2,np.ndarray)\n",
    "print(\"Problem 2a Test 1: Success!\")"
   ]
  },
  {
   "cell_type": "code",
   "execution_count": 7,
   "id": "b827e31b",
   "metadata": {
    "deletable": false,
    "editable": false,
    "nbgrader": {
     "cell_type": "code",
     "checksum": "08ed0b60977949203120c6d29f584091",
     "grade": true,
     "grade_id": "cell-d2d7fdc558f78de7",
     "locked": true,
     "points": 1,
     "schema_version": 3,
     "solution": false,
     "task": false
    }
   },
   "outputs": [
    {
     "name": "stdout",
     "output_type": "stream",
     "text": [
      "Problem 2a Test 2: Success!\n"
     ]
    }
   ],
   "source": [
    "\"Verify shape of A2. (1 mark)\"\n",
    "assert A2.shape == (50,50) , \"A2 should be a 50 by 50 matrix.\"\n",
    "print(\"Problem 2a Test 2: Success!\")"
   ]
  },
  {
   "cell_type": "code",
   "execution_count": 8,
   "id": "8159ff58",
   "metadata": {
    "deletable": false,
    "editable": false,
    "nbgrader": {
     "cell_type": "code",
     "checksum": "ee1ab6ecc03dd191dfff39d3fc703db3",
     "grade": true,
     "grade_id": "cell-eb13589b1d57ae4a",
     "locked": true,
     "points": 1,
     "schema_version": 3,
     "solution": false,
     "task": false
    }
   },
   "outputs": [
    {
     "name": "stdout",
     "output_type": "stream",
     "text": [
      "Problem 2a Test 3: Success!\n"
     ]
    }
   ],
   "source": [
    "\"Verify values of A2. This cell contains hidden tests. (1 mark)\"\n",
    "assert np.allclose(A2[:2,:2],[[2,-1],[-1,2]]) , \"Top left entries of A2 should be [[2,-1],[-1,2]].\"\n",
    "print(\"Problem 2a Test 3: Success!\")"
   ]
  },
  {
   "cell_type": "markdown",
   "id": "fa0f693a",
   "metadata": {
    "deletable": false,
    "editable": false,
    "nbgrader": {
     "cell_type": "markdown",
     "checksum": "dc4d85891f2226a4af5419d549f66479",
     "grade": false,
     "grade_id": "cell-128803f03d0b4ec8",
     "locked": true,
     "schema_version": 3,
     "solution": false,
     "task": false
    }
   },
   "source": [
    "### Problem 2b (3 marks)\n",
    "\n",
    "Use the function `scipy.linalg.lu` (see [documentation](https://docs.scipy.org/doc/scipy/reference/generated/scipy.linalg.lu.html)) to compute the LU decomposition (with partial pivoting) of $A_2$ for $N = 50$. Save the result as `P2`, `L2` and `U2`. In this case, the matrix $P2$ is the identity matrix and so $A_2 = L_2 U_2$."
   ]
  },
  {
   "cell_type": "code",
   "execution_count": 9,
   "id": "3750b630",
   "metadata": {
    "deletable": false,
    "nbgrader": {
     "cell_type": "code",
     "checksum": "8efe4a4abf8bfa34d59d710bd19c45e4",
     "grade": false,
     "grade_id": "cell-4da981a3009c2d56",
     "locked": false,
     "schema_version": 3,
     "solution": true,
     "task": false
    }
   },
   "outputs": [],
   "source": [
    "# YOUR CODE HERE\n",
    "P2, L2, U2 = la.lu(A2)"
   ]
  },
  {
   "cell_type": "code",
   "execution_count": 10,
   "id": "8b0b2875",
   "metadata": {
    "deletable": false,
    "editable": false,
    "nbgrader": {
     "cell_type": "code",
     "checksum": "a564df35186a5d69170eb7a98e6cb8c5",
     "grade": true,
     "grade_id": "cell-c639b9b29ac4b2f0",
     "locked": true,
     "points": 1,
     "schema_version": 3,
     "solution": false,
     "task": false
    }
   },
   "outputs": [
    {
     "name": "stdout",
     "output_type": "stream",
     "text": [
      "Problem 2b Test 1: Success!\n"
     ]
    }
   ],
   "source": [
    "\"Verify P2 is the identity matrix. (1 mark)\"\n",
    "assert np.allclose(P2,np.eye(50)) , \"P2 should be the identity matrix of size 50.\"\n",
    "print(\"Problem 2b Test 1: Success!\")"
   ]
  },
  {
   "cell_type": "code",
   "execution_count": 11,
   "id": "98467997",
   "metadata": {
    "deletable": false,
    "editable": false,
    "nbgrader": {
     "cell_type": "code",
     "checksum": "d14e6ad4dc6f5b6aa05ac1f42571d31f",
     "grade": true,
     "grade_id": "cell-389ce92b6f7ddf0e",
     "locked": true,
     "points": 1,
     "schema_version": 3,
     "solution": false,
     "task": false
    }
   },
   "outputs": [
    {
     "name": "stdout",
     "output_type": "stream",
     "text": [
      "Problem 2b Test 2: Success!\n"
     ]
    }
   ],
   "source": [
    "\"Verify size of L2 and U2. (1 mark)\"\n",
    "assert L2.shape == (50,50) , \"L2 should be a 50 by 50 matrix.\"\n",
    "assert U2.shape == (50,50) , \"U2 should be a 50 by 50 matrix.\"\n",
    "print(\"Problem 2b Test 2: Success!\")"
   ]
  },
  {
   "cell_type": "code",
   "execution_count": 12,
   "id": "ec18c2f6",
   "metadata": {
    "deletable": false,
    "editable": false,
    "nbgrader": {
     "cell_type": "code",
     "checksum": "d070e2e6e4323ef362630b1b3e05f0c6",
     "grade": true,
     "grade_id": "cell-c3fc516614e8a29e",
     "locked": true,
     "points": 1,
     "schema_version": 3,
     "solution": false,
     "task": false
    }
   },
   "outputs": [
    {
     "name": "stdout",
     "output_type": "stream",
     "text": [
      "Problem 2b Test 3: Success!\n"
     ]
    }
   ],
   "source": [
    "\"Verify values of L2 and U2. This cell contains hidden tests. (1 mark)\"\n",
    "assert np.allclose(L2[:2,:2],[[1,0],[-0.5,1]]) , \"Top left entries of L2 should be [[1,0],[-0.5,1]]\"\n",
    "assert np.allclose(U2[:2,:2],[[2,-1],[0,1.5]]) , \"Top left entries of U2 should be [[2,-1],[0,1.5]]\"\n",
    "print(\"Problem 2b Test 3: Success!\")"
   ]
  },
  {
   "cell_type": "markdown",
   "id": "0ba17a5c",
   "metadata": {
    "deletable": false,
    "editable": false,
    "nbgrader": {
     "cell_type": "markdown",
     "checksum": "4c63bbd7701934c58ace228f0ead80b4",
     "grade": false,
     "grade_id": "cell-503238072ba725ff",
     "locked": true,
     "schema_version": 3,
     "solution": false,
     "task": false
    }
   },
   "source": [
    "### Problem 2c (1 mark)\n",
    "\n",
    "Consider the vector\n",
    "\n",
    "$$\n",
    "\\mathbf{b}_2 = \\begin{bmatrix} V \\\\ \\vdots \\\\ V \\end{bmatrix}\n",
    "$$\n",
    "\n",
    "where $V$ is a constant. Let us solve the system $A_2 \\mathbf{x}_2 = \\mathbf{b}_2$ (where $A_2$ is the matrix from 2(a)) in 2 ways:\n",
    "\n",
    "1. Directly using `scipy.linalg.solve`.\n",
    "2. Using the LU decomposition and the function `scipy.linalg.solve_triangular`.\n",
    "\n",
    "Run the cells below several times and observe the results:"
   ]
  },
  {
   "cell_type": "code",
   "execution_count": 13,
   "id": "3db2751f",
   "metadata": {
    "deletable": false,
    "editable": false,
    "nbgrader": {
     "cell_type": "code",
     "checksum": "ebd98d6970666502c62ffd97a1780693",
     "grade": false,
     "grade_id": "cell-8f68e325bf41855b",
     "locked": true,
     "schema_version": 3,
     "solution": false,
     "task": false
    }
   },
   "outputs": [],
   "source": [
    "V = 12\n",
    "N = 50\n",
    "b2 = V*np.ones((N,1))"
   ]
  },
  {
   "cell_type": "code",
   "execution_count": 14,
   "id": "a4eaa417",
   "metadata": {
    "deletable": false,
    "editable": false,
    "nbgrader": {
     "cell_type": "code",
     "checksum": "06ef1e9041692172f188d81b67ecb675",
     "grade": false,
     "grade_id": "cell-df2c774f1c4e0c83",
     "locked": true,
     "schema_version": 3,
     "solution": false,
     "task": false
    }
   },
   "outputs": [
    {
     "name": "stdout",
     "output_type": "stream",
     "text": [
      "26.7 μs ± 28.7 ns per loop (mean ± std. dev. of 7 runs, 10,000 loops each)\n"
     ]
    }
   ],
   "source": [
    "%%timeit\n",
    "\n",
    "# Solve system directly by Gaussian elimination\n",
    "x2 = la.solve(A2,b2)"
   ]
  },
  {
   "cell_type": "code",
   "execution_count": 15,
   "id": "d28e04ff",
   "metadata": {
    "deletable": false,
    "editable": false,
    "nbgrader": {
     "cell_type": "code",
     "checksum": "f7e7350d68d841a7075a38df4a8feb62",
     "grade": false,
     "grade_id": "cell-d98a3c9c5598754a",
     "locked": true,
     "schema_version": 3,
     "solution": false,
     "task": false
    }
   },
   "outputs": [
    {
     "name": "stdout",
     "output_type": "stream",
     "text": [
      "13 μs ± 27.6 ns per loop (mean ± std. dev. of 7 runs, 100,000 loops each)\n"
     ]
    }
   ],
   "source": [
    "%%timeit\n",
    "\n",
    "# Solve system with forward/backward substitution given LU decompositon \n",
    "y2 = la.solve_triangular(L2,b2,lower=True)\n",
    "x2 = la.solve_triangular(U2,y2,lower=False)"
   ]
  },
  {
   "cell_type": "markdown",
   "id": "d30cb85b",
   "metadata": {
    "deletable": false,
    "editable": false,
    "nbgrader": {
     "cell_type": "markdown",
     "checksum": "f4cd8332144b9a065e5c106329be5646",
     "grade": false,
     "grade_id": "cell-dce1efd28ee3af5e",
     "locked": true,
     "schema_version": 3,
     "solution": false,
     "task": false
    }
   },
   "source": [
    "**True** or **False**: Solving the system with forward/backward substitution given the LU decomposition is faster than solving directly.\n",
    "\n",
    "Enter your response as `observation2c`."
   ]
  },
  {
   "cell_type": "code",
   "execution_count": 16,
   "id": "820d13eb",
   "metadata": {
    "deletable": false,
    "nbgrader": {
     "cell_type": "code",
     "checksum": "c089ea9102d4937ed377302c4d9dfb1e",
     "grade": false,
     "grade_id": "cell-40ffe68b53716186",
     "locked": false,
     "schema_version": 3,
     "solution": true,
     "task": false
    }
   },
   "outputs": [],
   "source": [
    "# YOUR CODE HERE\n",
    "observation2c = True"
   ]
  },
  {
   "cell_type": "code",
   "execution_count": 17,
   "id": "187a55b2",
   "metadata": {
    "deletable": false,
    "editable": false,
    "nbgrader": {
     "cell_type": "code",
     "checksum": "e3944a6d104c17683102fe56e9f11583",
     "grade": true,
     "grade_id": "cell-52b3c78e9763318e",
     "locked": true,
     "points": 1,
     "schema_version": 3,
     "solution": false,
     "task": false
    }
   },
   "outputs": [
    {
     "name": "stdout",
     "output_type": "stream",
     "text": [
      "Problem 2c Test 1: Success!\n"
     ]
    }
   ],
   "source": [
    "\"Verify value of observation2c. This cell contains hidden tests. (1 mark)\"\n",
    "assert isinstance(observation2c, bool) , \"observation2c should be True or False.\"\n",
    "print(\"Problem 2c Test 1: Success!\")"
   ]
  },
  {
   "cell_type": "markdown",
   "id": "b2ea68ff",
   "metadata": {
    "deletable": false,
    "editable": false,
    "nbgrader": {
     "cell_type": "markdown",
     "checksum": "18cd7306eaf111e24172941fc97c57eb",
     "grade": false,
     "grade_id": "cell-a75be7048cef6bd3",
     "locked": true,
     "schema_version": 3,
     "solution": false,
     "task": false
    }
   },
   "source": [
    "Visualize the result:"
   ]
  },
  {
   "cell_type": "code",
   "execution_count": 18,
   "id": "0ec9162a",
   "metadata": {
    "deletable": false,
    "editable": false,
    "nbgrader": {
     "cell_type": "code",
     "checksum": "25fb6be9bc913a223216b267e3e178c2",
     "grade": false,
     "grade_id": "cell-de029f38a5b0142a",
     "locked": true,
     "schema_version": 3,
     "solution": false,
     "task": false
    }
   },
   "outputs": [
    {
     "data": {
      "image/png": "[encoded data removed]",
      "text/plain": [
       "<Figure size 640x480 with 1 Axes>"
      ]
     },
     "metadata": {},
     "output_type": "display_data"
    }
   ],
   "source": [
    "# Solve system with forward/backward substitution given LU decompositon \n",
    "y2 = la.solve_triangular(L2,b2,lower=True)\n",
    "x2 = la.solve_triangular(U2,y2,lower=False)\n",
    "plt.bar(range(len(x2)),x2.flatten())\n",
    "plt.show()"
   ]
  },
  {
   "cell_type": "markdown",
   "id": "17d27c26",
   "metadata": {
    "deletable": false,
    "editable": false,
    "nbgrader": {
     "cell_type": "markdown",
     "checksum": "72b88956847ba498a32fb0ce149931cf",
     "grade": false,
     "grade_id": "cell-6dd319367f306bf2",
     "locked": true,
     "schema_version": 3,
     "solution": false,
     "task": false
    }
   },
   "source": [
    "## Problem 3 (4 marks)\n",
    "\n",
    "Let $c \\in \\mathbb{R}$ and consider the $N \\times N$ matrix\n",
    "\n",
    "$$\n",
    "A_3 =  \\left[ \\begin{array}{ccccc}\n",
    "c & 1 & & & \\\\\n",
    "1 & c & 1 & & \\\\\n",
    "& \\ddots & \\ddots & \\ddots & \\\\\n",
    "& & 1 & c & 1 \\\\\n",
    "& & & 1 & c \\\\\n",
    "\\end{array}\n",
    "\\right]\n",
    "$$\n",
    "\n",
    "Use the function `np.diag` (see [documentation](https://numpy.org/doc/stable/reference/generated/numpy.diag.html)) to construct $A_3$. Use the function `np.linalg.cond` (see [documentation](https://numpy.org/doc/stable/reference/generated/numpy.linalg.cond.html)) to compute the condition number."
   ]
  },
  {
   "cell_type": "markdown",
   "id": "34af54ac",
   "metadata": {
    "deletable": false,
    "editable": false,
    "nbgrader": {
     "cell_type": "markdown",
     "checksum": "28f149557e74d5a02e2c9af5fb7c6393",
     "grade": false,
     "grade_id": "cell-aa9df8d7134d455c",
     "locked": true,
     "schema_version": 3,
     "solution": false,
     "task": false
    }
   },
   "source": [
    "### Problem 3a (2 marks)\n",
    "\n",
    "Compute the condition number of $A_3$ for $N = 20$ and $c = 8$. Save the result as `C3`."
   ]
  },
  {
   "cell_type": "code",
   "execution_count": 19,
   "id": "83598a3e",
   "metadata": {
    "deletable": false,
    "nbgrader": {
     "cell_type": "code",
     "checksum": "772deac0d6e0c41f38895e0291348716",
     "grade": false,
     "grade_id": "cell-acb939065a334280",
     "locked": false,
     "schema_version": 3,
     "solution": true,
     "task": false
    }
   },
   "outputs": [
    {
     "data": {
      "text/plain": [
       "1.6567753381889914"
      ]
     },
     "execution_count": 19,
     "metadata": {},
     "output_type": "execute_result"
    }
   ],
   "source": [
    "# YOUR CODE HERE\n",
    "N = 20\n",
    "c = 8\n",
    "A3 = np.diag(np.full(N, c), 0) + np.diag(np.full(N-1, 1.0), 1) + np.diag(np.full(N-1, 1.0), -1)\n",
    "C3 = np.linalg.cond(A3)\n",
    "C3"
   ]
  },
  {
   "cell_type": "code",
   "execution_count": 20,
   "id": "c3f4bb1d",
   "metadata": {
    "deletable": false,
    "editable": false,
    "nbgrader": {
     "cell_type": "code",
     "checksum": "3d6aab27c91c8a1c34933541946c2240",
     "grade": true,
     "grade_id": "cell-51aac4dbaa76c37b",
     "locked": true,
     "points": 1,
     "schema_version": 3,
     "solution": false,
     "task": false
    }
   },
   "outputs": [
    {
     "name": "stdout",
     "output_type": "stream",
     "text": [
      "Problem 3a Test 1: Success!\n"
     ]
    }
   ],
   "source": [
    "\"Verify type of C3. (1 mark)\"\n",
    "assert isinstance(C3,np.float64) , \"C3 should be a NumPy float.\"\n",
    "print(\"Problem 3a Test 1: Success!\")"
   ]
  },
  {
   "cell_type": "code",
   "execution_count": 21,
   "id": "a45cb14e",
   "metadata": {
    "deletable": false,
    "editable": false,
    "nbgrader": {
     "cell_type": "code",
     "checksum": "1aaaa2733255c7763523f54e95960b81",
     "grade": true,
     "grade_id": "cell-d922c814d8cf99c9",
     "locked": true,
     "points": 1,
     "schema_version": 3,
     "solution": false,
     "task": false
    }
   },
   "outputs": [
    {
     "name": "stdout",
     "output_type": "stream",
     "text": [
      "Problem 3a Test 2: Success!\n"
     ]
    }
   ],
   "source": [
    "\"Verify value of C3. This cell contains hidden tests. (1 mark)\"\n",
    "assert np.round(C3,1) == 1.7 , \"C3 should be 1.7 rounded to 1 decimal place.\"\n",
    "print(\"Problem 3a Test 2: Success!\")"
   ]
  },
  {
   "cell_type": "markdown",
   "id": "910fda88",
   "metadata": {
    "deletable": false,
    "editable": false,
    "nbgrader": {
     "cell_type": "markdown",
     "checksum": "c8c797f81c879daaec43edff2fcd2c4c",
     "grade": false,
     "grade_id": "cell-033dc461f90970bb",
     "locked": true,
     "schema_version": 3,
     "solution": false,
     "task": false
    }
   },
   "source": [
    "### Problem 3b (2 marks)\n",
    "\n",
    "Compute the condition number for $A_3$ for several different values $N$ and $c$. Observe the results and answer the following question.\n",
    "\n",
    "**True** or **False**: For any integer $N>0$, the condition number of $A_3$ converges to 1 as $c \\to \\infty$. Enter your response `observation3b` as either **True** or **False**."
   ]
  },
  {
   "cell_type": "code",
   "execution_count": 22,
   "id": "25973370-b8cc-47b6-9b3b-3518a89a53cc",
   "metadata": {},
   "outputs": [
    {
     "data": {
      "text/plain": [
       "array([1.04493545, 1.04443068, 1.04393713, 1.04345442, 1.04298221,\n",
       "       1.04252014, 1.04206791, 1.04162519, 1.0411917 , 1.04076714,\n",
       "       1.04035124])"
      ]
     },
     "execution_count": 22,
     "metadata": {},
     "output_type": "execute_result"
    },
    {
     "data": {
      "image/png": "[encoded data removed]",
      "text/plain": [
       "<Figure size 640x480 with 1 Axes>"
      ]
     },
     "metadata": {},
     "output_type": "display_data"
    }
   ],
   "source": [
    "# Plotting the condition number of A3\n",
    "\n",
    "def create_A3(N, c):\n",
    "    x = np.diag(np.full(N, c), 0) + np.diag(np.full(N-1, 1.0), 1) + np.diag(np.full(N-1, 1.0), -1)\n",
    "    return x\n",
    "\n",
    "C_value = np.zeros(101)\n",
    "x_axis = np.arange(101)\n",
    "for i in x_axis:\n",
    "    C_value[i] = np.linalg.cond(create_A3(N, i))\n",
    "\n",
    "plt.plot(x_axis, C_value)\n",
    "plt.xlabel(\"X\")\n",
    "plt.ylabel(\"Condition Number\")\n",
    "plt.title(\"Condition Number as a Function of c in Matrix A3\")\n",
    "plt.yticks(np.arange(0, 10+1, 1.0))\n",
    "plt.ylim([0, 10])\n",
    "plt.show\n",
    "\n",
    "C_value[90:101] # looks like it is converging to 1"
   ]
  },
  {
   "cell_type": "code",
   "execution_count": 23,
   "id": "f8b82575",
   "metadata": {
    "deletable": false,
    "nbgrader": {
     "cell_type": "code",
     "checksum": "c7aa4252971e7f589c6295cb2a8cb592",
     "grade": false,
     "grade_id": "cell-5e22cdba8719cee0",
     "locked": false,
     "schema_version": 3,
     "solution": true,
     "task": false
    }
   },
   "outputs": [],
   "source": [
    "# YOUR CODE HERE\n",
    "observation3b = True"
   ]
  },
  {
   "cell_type": "code",
   "execution_count": 24,
   "id": "d5b38d44",
   "metadata": {
    "deletable": false,
    "editable": false,
    "nbgrader": {
     "cell_type": "code",
     "checksum": "a21f30a6664d056812fcb83537ee1bd3",
     "grade": true,
     "grade_id": "cell-ddbeb727e4310740",
     "locked": true,
     "points": 1,
     "schema_version": 3,
     "solution": false,
     "task": false
    }
   },
   "outputs": [
    {
     "name": "stdout",
     "output_type": "stream",
     "text": [
      "Problem 3b Test 1: Success!\n"
     ]
    }
   ],
   "source": [
    "\"Verify type of observation3b. (1 mark)\"\n",
    "assert isinstance(observation3b,bool) , \"observation3b should be either True or False\"\n",
    "print(\"Problem 3b Test 1: Success!\")"
   ]
  },
  {
   "cell_type": "code",
   "execution_count": 25,
   "id": "16a1b70d",
   "metadata": {
    "deletable": false,
    "editable": false,
    "nbgrader": {
     "cell_type": "code",
     "checksum": "5060f1da8321c588341dd2b7d005849d",
     "grade": true,
     "grade_id": "cell-f3e02dcbe1a18885",
     "locked": true,
     "points": 1,
     "schema_version": 3,
     "solution": false,
     "task": false
    }
   },
   "outputs": [
    {
     "name": "stdout",
     "output_type": "stream",
     "text": [
      "Problem 3b Test 2: Success!\n"
     ]
    }
   ],
   "source": [
    "\"Verify value of observation3b. This cell contains hidden tests. (1 mark)\"\n",
    "assert isinstance(observation3b,bool) , \"observation3b should be either True or False\"\n",
    "print(\"Problem 3b Test 2: Success!\")"
   ]
  },
  {
   "cell_type": "markdown",
   "id": "937b5677",
   "metadata": {
    "deletable": false,
    "editable": false,
    "nbgrader": {
     "cell_type": "markdown",
     "checksum": "eec7b1106be34fee55364d863f7393a0",
     "grade": false,
     "grade_id": "cell-235ca7724942709e",
     "locked": true,
     "schema_version": 3,
     "solution": false,
     "task": false
    }
   },
   "source": [
    "## Problem 4 (2 marks)\n",
    "\n",
    "Find the smallest (positive) integer $N$ such that the Vandermonde matrix for data points $t_0=0,\\dots,t_N=N$ has condition number greater than $10^{10}$. Save the result as `N4`. Use `np.vander` to create the Vandermonde matrix. See the [documentation](https://numpy.org/doc/stable/reference/generated/numpy.vander.html). Use the function `np.linalg.cond` to compute the condition number. See the [documentation](https://numpy.org/doc/stable/reference/generated/numpy.linalg.cond.html)."
   ]
  },
  {
   "cell_type": "code",
   "execution_count": 26,
   "id": "f9088c56",
   "metadata": {
    "deletable": false,
    "nbgrader": {
     "cell_type": "code",
     "checksum": "7ad4aac07e0284ab346fd9a199765664",
     "grade": false,
     "grade_id": "cell-45d3dd971a6c6797",
     "locked": false,
     "schema_version": 3,
     "solution": true,
     "task": false
    }
   },
   "outputs": [
    {
     "data": {
      "image/png": "[encoded data removed]",
      "text/plain": [
       "<Figure size 640x480 with 1 Axes>"
      ]
     },
     "metadata": {},
     "output_type": "display_data"
    }
   ],
   "source": [
    "# YOUR CODE HERE\n",
    "def create_vander(N):\n",
    "    arr = np.arange(N);\n",
    "    x = np.vander(arr, N)\n",
    "    return x\n",
    "\n",
    "# np.linalg.cond(create_vander(4))\n",
    "\n",
    "vander_value = np.arange(11)\n",
    "x_axis = np.arange(11)\n",
    "\n",
    "for i in x_axis:\n",
    "    if i == 0:\n",
    "        vander_value[i] = np.linalg.cond(np.vander([0], 1))\n",
    "    else:\n",
    "        vander_value[i] = np.linalg.cond(create_vander(i))\n",
    "\n",
    "plt.stem(x_axis, vander_value)\n",
    "plt.xlabel(\"N\")\n",
    "plt.ylabel(\"Condition Number\")\n",
    "plt.title(\"Vandermonde Condition Number\")\n",
    "plt.axhline(y=1e10, color=\"red\", linestyle=\"--\", label=r\"10^{10} line\")\n",
    "plt.axvline(x=10, color=\"g\", linestyle=\"--\", label=r\"Smallest N\")\n",
    "plt.legend()\n",
    "plt.show\n",
    "\n",
    "N4 = 10"
   ]
  },
  {
   "cell_type": "code",
   "execution_count": 27,
   "id": "f083fd08",
   "metadata": {
    "deletable": false,
    "editable": false,
    "nbgrader": {
     "cell_type": "code",
     "checksum": "13f8cae5030a15a0502d244e2c6bc392",
     "grade": true,
     "grade_id": "cell-bd49ad5db523c2dc",
     "locked": true,
     "points": 1,
     "schema_version": 3,
     "solution": false,
     "task": false
    }
   },
   "outputs": [
    {
     "name": "stdout",
     "output_type": "stream",
     "text": [
      "Problem 4 Test 1: Success!\n"
     ]
    }
   ],
   "source": [
    "\"Verify type of N4. (1 mark)\"\n",
    "assert isinstance(N4,int) , \"N4 should be an integer\"\n",
    "print(\"Problem 4 Test 1: Success!\")"
   ]
  },
  {
   "cell_type": "code",
   "execution_count": 28,
   "id": "ce8b8e2e",
   "metadata": {
    "deletable": false,
    "editable": false,
    "nbgrader": {
     "cell_type": "code",
     "checksum": "ac52a4ba39d3464db0d0fd0f43f0c2f4",
     "grade": true,
     "grade_id": "cell-59f409b02a971c82",
     "locked": true,
     "points": 1,
     "schema_version": 3,
     "solution": false,
     "task": false
    }
   },
   "outputs": [
    {
     "name": "stdout",
     "output_type": "stream",
     "text": [
      "Problem 4 Test 2: Success!\n"
     ]
    }
   ],
   "source": [
    "\"Verify value of N4. This cell contains hidden tests. (1 mark)\"\n",
    "assert N4 > 0 , \"N4 should be an integer\"\n",
    "print(\"Problem 4 Test 2: Success!\")"
   ]
  },
  {
   "cell_type": "markdown",
   "id": "636162a9",
   "metadata": {
    "deletable": false,
    "editable": false,
    "nbgrader": {
     "cell_type": "markdown",
     "checksum": "9f39a2df11e0bb623ce5ded182de597d",
     "grade": false,
     "grade_id": "cell-484fda2f3d9d69c5",
     "locked": true,
     "schema_version": 3,
     "solution": false,
     "task": false
    }
   },
   "source": [
    "## Problem 5 (3 marks)\n",
    "\n",
    "The data in the cell below records the average daily temperature in [Alert, Nunavut](https://en.wikipedia.org/wiki/Alert,_Nunavut) in April 2006 (see [Environment and Climate Change Canada](https://climate.weather.gc.ca)). Note that there are days with missing data. The goal of this exercise is to interpolate the data with a natural cubic spline and predict the temperature on the days without a measurement."
   ]
  },
  {
   "cell_type": "code",
   "execution_count": 29,
   "id": "6977d9cd",
   "metadata": {
    "deletable": false,
    "editable": false,
    "nbgrader": {
     "cell_type": "code",
     "checksum": "f0a58166a077540a2a8e86ac0a57b40d",
     "grade": false,
     "grade_id": "cell-7efacdd7f58bcce1",
     "locked": true,
     "schema_version": 3,
     "solution": false,
     "task": false
    }
   },
   "outputs": [
    {
     "data": {
      "image/png": "[encoded data removed]",
      "text/plain": [
       "<Figure size 1400x500 with 1 Axes>"
      ]
     },
     "metadata": {},
     "output_type": "display_data"
    }
   ],
   "source": [
    "day = [1,2,3,4,5,6,9,10,11,12,14,15,16,17,18,19,20,21,22,23,24,25,26,29,30]\n",
    "temperature = [-31.3,-30.9,-30.2,-30.5,-26.8,-28.0,-30.8,-23.4,-18.3,-19.6,-25.1,-21.9,-25.9,-29.4,-28.7,-22.7,-23.1,-19.6,-21.1,-14.8,-15.6,-11.8,-11.2,-15.1,-13.7]\n",
    "\n",
    "plt.figure(figsize=(14,5))\n",
    "plt.plot(day,temperature,'.')\n",
    "plt.title('Average Daily Temperature, Alert, Nunavut (April 2006)')\n",
    "plt.xlabel('Day'), plt.ylabel('Temperature (C)')\n",
    "plt.grid(True)\n",
    "plt.show()"
   ]
  },
  {
   "cell_type": "markdown",
   "id": "5a36bb07",
   "metadata": {
    "deletable": false,
    "editable": false,
    "nbgrader": {
     "cell_type": "markdown",
     "checksum": "a8a9792124085e2c7877a4c27ff9a714",
     "grade": false,
     "grade_id": "cell-29af2b623e586403",
     "locked": true,
     "schema_version": 3,
     "solution": false,
     "task": false
    }
   },
   "source": [
    "### Problem 5a (2 marks)\n",
    "\n",
    "Use the function `scipy.interpolate.CubicSpline` to compute the natural cubic spline of the data. Save the result as `p5`. See the [documentation](https://docs.scipy.org/doc/scipy/reference/generated/scipy.interpolate.CubicSpline.html). Note that the natural cubic spline condition requires `bc_type='natural'`."
   ]
  },
  {
   "cell_type": "code",
   "execution_count": 33,
   "id": "ad22d8ca",
   "metadata": {
    "deletable": false,
    "nbgrader": {
     "cell_type": "code",
     "checksum": "f6b08c03f83bd913b768bde99c36e431",
     "grade": false,
     "grade_id": "cell-1860a30a48674e91",
     "locked": false,
     "schema_version": 3,
     "solution": true,
     "task": false
    }
   },
   "outputs": [],
   "source": [
    "from scipy.interpolate import CubicSpline\n",
    "# YOUR CODE HERE\n",
    "p5 = CubicSpline(day, temperature, bc_type=\"natural\")"
   ]
  },
  {
   "cell_type": "code",
   "execution_count": 34,
   "id": "8cde9681",
   "metadata": {
    "deletable": false,
    "editable": false,
    "nbgrader": {
     "cell_type": "code",
     "checksum": "9bc94ad3953e332168f4012621d99771",
     "grade": true,
     "grade_id": "cell-277adb72c29e0d32",
     "locked": true,
     "points": 1,
     "schema_version": 3,
     "solution": false,
     "task": false
    }
   },
   "outputs": [
    {
     "name": "stdout",
     "output_type": "stream",
     "text": [
      "Problem 5a Test 1: Success!\n"
     ]
    }
   ],
   "source": [
    "\"Verify type of p5. (1 mark)\"\n",
    "assert isinstance(p5,CubicSpline) , \"p5 should be a CubicSpline object.\"\n",
    "print(\"Problem 5a Test 1: Success!\")"
   ]
  },
  {
   "cell_type": "code",
   "execution_count": 35,
   "id": "92d5f451",
   "metadata": {
    "deletable": false,
    "editable": false,
    "nbgrader": {
     "cell_type": "code",
     "checksum": "19cc0aca68761c66697fb258a750f9db",
     "grade": true,
     "grade_id": "cell-0b2b01be1e524f75",
     "locked": true,
     "points": 1,
     "schema_version": 3,
     "solution": false,
     "task": false
    }
   },
   "outputs": [
    {
     "name": "stdout",
     "output_type": "stream",
     "text": [
      "Problem 5a Test 2: Success!\n"
     ]
    }
   ],
   "source": [
    "\"Verify the coefficient matrix of p5. This cell contains hidden tests. (1 mark)\"\n",
    "assert p5.c.shape == (4,24) , \"Coefficient of matrix should be 4 by 24.\"\n",
    "print(\"Problem 5a Test 2: Success!\")"
   ]
  },
  {
   "cell_type": "markdown",
   "id": "bdf2a041",
   "metadata": {
    "deletable": false,
    "editable": false,
    "nbgrader": {
     "cell_type": "markdown",
     "checksum": "1149516d6e149a5a64f31252b2eff7c8",
     "grade": false,
     "grade_id": "cell-01a25a6f36fa8ad1",
     "locked": true,
     "schema_version": 3,
     "solution": false,
     "task": false
    }
   },
   "source": [
    "Plot the cubic spline with the data."
   ]
  },
  {
   "cell_type": "code",
   "execution_count": 36,
   "id": "9989720d",
   "metadata": {
    "deletable": false,
    "editable": false,
    "nbgrader": {
     "cell_type": "code",
     "checksum": "5032ecfeac290afaa8318de5404907f6",
     "grade": false,
     "grade_id": "cell-58cccf916e93bb5a",
     "locked": true,
     "schema_version": 3,
     "solution": false,
     "task": false
    }
   },
   "outputs": [
    {
     "data": {
      "image/png": "[encoded data removed]",
      "text/plain": [
       "<Figure size 1400x500 with 1 Axes>"
      ]
     },
     "metadata": {},
     "output_type": "display_data"
    }
   ],
   "source": [
    "plt.figure(figsize=(14,5))\n",
    "d = np.linspace(1,30,200)\n",
    "t = p5(d)\n",
    "plt.plot(d,t,'r')\n",
    "plt.plot(day,temperature,'.b')\n",
    "plt.title('Average Daily Temperature in Alert, Nunavut (April 2006)')\n",
    "plt.xlabel('Day'), plt.ylabel('Temperature (C)')\n",
    "plt.grid(True)\n",
    "plt.show()"
   ]
  },
  {
   "cell_type": "markdown",
   "id": "9ef2baf2",
   "metadata": {
    "deletable": false,
    "editable": false,
    "nbgrader": {
     "cell_type": "markdown",
     "checksum": "0d67a86442dc1e6233bdcb7c7493cceb",
     "grade": false,
     "grade_id": "cell-0b7098af8631b1f1",
     "locked": true,
     "schema_version": 3,
     "solution": false,
     "task": false
    }
   },
   "source": [
    "### Problem 5b (1 mark)\n",
    "\n",
    "We can use the cubic spline object `p5` as a function to compute the temperature at any point. Compute the temperature for `d = 27` and assign the result to `T27`."
   ]
  },
  {
   "cell_type": "code",
   "execution_count": 47,
   "id": "5faedf11",
   "metadata": {
    "deletable": false,
    "nbgrader": {
     "cell_type": "code",
     "checksum": "f56b259a3d00280c5e36b5bd07fb3dad",
     "grade": false,
     "grade_id": "cell-af29db1a8f5ddc6f",
     "locked": false,
     "schema_version": 3,
     "solution": true,
     "task": false
    }
   },
   "outputs": [
    {
     "data": {
      "text/plain": [
       "array(-12.85652468)"
      ]
     },
     "execution_count": 47,
     "metadata": {},
     "output_type": "execute_result"
    }
   ],
   "source": [
    "# YOUR CODE HERE\n",
    "T27 = p5(27)\n",
    "T27"
   ]
  },
  {
   "cell_type": "code",
   "execution_count": 48,
   "id": "6e0480a3",
   "metadata": {
    "deletable": false,
    "editable": false,
    "nbgrader": {
     "cell_type": "code",
     "checksum": "04cc3ba00b3aa9150a5a6c984eee4c71",
     "grade": true,
     "grade_id": "cell-702eb334a274d42b",
     "locked": true,
     "points": 1,
     "schema_version": 3,
     "solution": false,
     "task": false
    }
   },
   "outputs": [
    {
     "name": "stdout",
     "output_type": "stream",
     "text": [
      "Problem 5b Test 1: Success!\n"
     ]
    }
   ],
   "source": [
    "\"Verify the value of T27. This cell contains hidden tests. (1 mark)\"\n",
    "assert T27 < 0 , \"The temperature should be below 0.\"\n",
    "print(\"Problem 5b Test 1: Success!\")"
   ]
  },
  {
   "cell_type": "markdown",
   "id": "5c1b38cd",
   "metadata": {
    "deletable": false,
    "editable": false,
    "nbgrader": {
     "cell_type": "markdown",
     "checksum": "979f997531f9c14a62180dbb99af9fed",
     "grade": false,
     "grade_id": "cell-7f3c78f8f511788f",
     "locked": true,
     "schema_version": 3,
     "solution": false,
     "task": false
    }
   },
   "source": [
    "## Problem 6 (6 marks)\n",
    "\n",
    "The goal of this problem is to find the unique function of the form\n",
    "\n",
    "$$\n",
    "f(t) = c_0 + c_1 \\cos(\\pi t) + c_2 \\cos(2 \\pi t) + c_3 \\cos(3 \\pi t) + c_4 \\cos(4 \\pi t) + c_5 \\cos(5 \\pi t)\n",
    "$$\n",
    "\n",
    "which interpolates the data\n",
    "\n",
    "$$\n",
    "(0.0,0.86198775) \\ , \\ (0.2,0.42221378) \\ , \\ (0.4,0.67085031) \\ , \\ (0.6,0.81337281) \\ , \\ (0.8,0.06133098) \\ , \\ (1.0,0.18599908)\n",
    "$$"
   ]
  },
  {
   "cell_type": "code",
   "execution_count": 49,
   "id": "2e597e96",
   "metadata": {
    "deletable": false,
    "editable": false,
    "nbgrader": {
     "cell_type": "code",
     "checksum": "25dd25496fc1791d452140b070283c8d",
     "grade": false,
     "grade_id": "cell-da604c744f3d8029",
     "locked": true,
     "schema_version": 3,
     "solution": false,
     "task": false
    }
   },
   "outputs": [
    {
     "data": {
      "image/png": "[encoded data removed]",
      "text/plain": [
       "<Figure size 640x480 with 1 Axes>"
      ]
     },
     "metadata": {},
     "output_type": "display_data"
    }
   ],
   "source": [
    "t = [ 0.0, 0.2, 0.4, 0.6, 0.8, 1.0 ]\n",
    "y = [ 0.86198775, 0.42221378, 0.67085031, 0.81337281, 0.06133098, 0.18599908 ]\n",
    "plt.plot(t,y,'b.'), plt.grid(True)\n",
    "plt.show()"
   ]
  },
  {
   "cell_type": "markdown",
   "id": "10a859ef",
   "metadata": {
    "deletable": false,
    "editable": false,
    "nbgrader": {
     "cell_type": "markdown",
     "checksum": "2cc732db261f0d880478a70e0a6164b0",
     "grade": false,
     "grade_id": "cell-99b8f0dfa6579b17",
     "locked": true,
     "schema_version": 3,
     "solution": false,
     "task": false
    }
   },
   "source": [
    "### Problem 6a (3 marks)\n",
    "\n",
    "Copy/paste/modify the code below to create the matrix $A_6$ such that the solution of $A_6 \\mathbf{c} = \\mathbf{y}$ is the vector $\\mathbf{c}$ of coefficients (and $\\mathbf{y}$ is the vector of $y$ values)\n",
    "\n",
    "$$\n",
    "\\mathbf{c} = \\begin{bmatrix} c_0 \\\\ c_1 \\\\ c_2 \\\\ c_3 \\\\ c_4 \\\\ c_5 \\end{bmatrix}\n",
    "\\hspace{1in}\n",
    "\\mathbf{y} = \\begin{bmatrix} y_0 \\\\ y_1 \\\\ y_2 \\\\ y_3 \\\\ y_4 \\\\ y_5 \\end{bmatrix}\n",
    "$$\n",
    "\n",
    "```\n",
    "t = np.linspace(0,1,3)\n",
    "A6 = np.stack([np.ones(3),np.cos(np.pi*t),np.cos(2*np.pi*t)],axis=1)\n",
    "```"
   ]
  },
  {
   "cell_type": "code",
   "execution_count": 56,
   "id": "93eef72e",
   "metadata": {
    "deletable": false,
    "nbgrader": {
     "cell_type": "code",
     "checksum": "cd847fda3ea1f7ea682b546c60e03615",
     "grade": false,
     "grade_id": "cell-b4d5b1dd6ed019c5",
     "locked": false,
     "schema_version": 3,
     "solution": true,
     "task": false
    }
   },
   "outputs": [
    {
     "name": "stdout",
     "output_type": "stream",
     "text": [
      "[[ 1.          1.          1.          1.          1.          1.        ]\n",
      " [ 1.          0.80901699  0.30901699 -0.30901699 -0.80901699 -1.        ]\n",
      " [ 1.          0.30901699 -0.80901699 -0.80901699  0.30901699  1.        ]\n",
      " [ 1.         -0.30901699 -0.80901699  0.80901699  0.30901699 -1.        ]\n",
      " [ 1.         -0.80901699  0.30901699  0.30901699 -0.80901699  1.        ]\n",
      " [ 1.         -1.          1.         -1.          1.         -1.        ]]\n"
     ]
    }
   ],
   "source": [
    "# YOUR CODE HERE\n",
    "A6 = np.array([[1, np.cos(np.pi * i),np.cos(2 * np.pi * i), np.cos(3 * np.pi * i), np.cos(4 * np.pi * i),np.cos(5 * np.pi * i) ] for i in t])\n",
    "print(A6)"
   ]
  },
  {
   "cell_type": "code",
   "execution_count": 57,
   "id": "f7d0cb2b",
   "metadata": {
    "deletable": false,
    "editable": false,
    "nbgrader": {
     "cell_type": "code",
     "checksum": "bfcd124dd82a4ffd6f96d75928eb6dcf",
     "grade": true,
     "grade_id": "cell-432c9b40fb838dc2",
     "locked": true,
     "points": 1,
     "schema_version": 3,
     "solution": false,
     "task": false
    }
   },
   "outputs": [
    {
     "name": "stdout",
     "output_type": "stream",
     "text": [
      "Problem 6a Test 1: Success!\n"
     ]
    }
   ],
   "source": [
    "\"Verify the type of A6. (1 mark)\"\n",
    "assert isinstance(A6,np.ndarray) , \"A6 should be a NumPy array.\"\n",
    "print(\"Problem 6a Test 1: Success!\")"
   ]
  },
  {
   "cell_type": "code",
   "execution_count": 58,
   "id": "905e9b6e",
   "metadata": {
    "deletable": false,
    "editable": false,
    "nbgrader": {
     "cell_type": "code",
     "checksum": "24333895b3b13b393801013d1883c9da",
     "grade": true,
     "grade_id": "cell-cb0009782c551726",
     "locked": true,
     "points": 1,
     "schema_version": 3,
     "solution": false,
     "task": false
    }
   },
   "outputs": [
    {
     "name": "stdout",
     "output_type": "stream",
     "text": [
      "Problem 6a Test 2: Success!\n"
     ]
    }
   ],
   "source": [
    "\"Verify the shape of A6. (1 mark)\"\n",
    "assert A6.shape == (6,6), \"A6 should be a 6 by 6 NumPy array.\"\n",
    "print(\"Problem 6a Test 2: Success!\")"
   ]
  },
  {
   "cell_type": "code",
   "execution_count": 59,
   "id": "b0f7fd6a",
   "metadata": {
    "deletable": false,
    "editable": false,
    "nbgrader": {
     "cell_type": "code",
     "checksum": "ed39f95715f8eba23df3338ae148612e",
     "grade": true,
     "grade_id": "cell-c31122da0af1339e",
     "locked": true,
     "points": 1,
     "schema_version": 3,
     "solution": false,
     "task": false
    }
   },
   "outputs": [
    {
     "name": "stdout",
     "output_type": "stream",
     "text": [
      "Problem 6a Test 3: Success!\n"
     ]
    }
   ],
   "source": [
    "\"Verify values of A1. This cell contains hidden tests. (1 mark)\"\n",
    "assert np.allclose(A6[:2,:2],[[1,1],[1,0.80901699]]) , \"Top left entries of A6 shold be [[1,1],[1,0.80901699]].\"\n",
    "print(\"Problem 6a Test 3: Success!\")"
   ]
  },
  {
   "cell_type": "markdown",
   "id": "f1f1e012",
   "metadata": {
    "deletable": false,
    "editable": false,
    "nbgrader": {
     "cell_type": "markdown",
     "checksum": "07f910e21b4a98debe18c9f9f4a38b1d",
     "grade": false,
     "grade_id": "cell-746874b5e6d570e4",
     "locked": true,
     "schema_version": 3,
     "solution": false,
     "task": false
    }
   },
   "source": [
    "### Problem 6b (3 marks)\n",
    "\n",
    "Use `scipy.linalg.solve` to compute the solution $\\mathbf{c}$. Save the result as `c6`."
   ]
  },
  {
   "cell_type": "code",
   "execution_count": 60,
   "id": "3a004c83",
   "metadata": {
    "deletable": false,
    "nbgrader": {
     "cell_type": "code",
     "checksum": "405ff4c80892047715c63c2bff6b37da",
     "grade": false,
     "grade_id": "cell-30d8d115b4dd3d70",
     "locked": false,
     "schema_version": 3,
     "solution": true,
     "task": false
    }
   },
   "outputs": [
    {
     "data": {
      "text/plain": [
       "array([ 0.49835226,  0.23436511, -0.21093791,  0.13671142,  0.23657906,\n",
       "       -0.03308219])"
      ]
     },
     "execution_count": 60,
     "metadata": {},
     "output_type": "execute_result"
    }
   ],
   "source": [
    "# YOUR CODE HERE\n",
    "c6 = scipy.linalg.solve(A6, y)\n",
    "c6"
   ]
  },
  {
   "cell_type": "code",
   "execution_count": 61,
   "id": "868dc2fe",
   "metadata": {
    "deletable": false,
    "editable": false,
    "nbgrader": {
     "cell_type": "code",
     "checksum": "480b94f755172506a1917defb9d636e0",
     "grade": true,
     "grade_id": "cell-ed9611aa2cee6b62",
     "locked": true,
     "points": 1,
     "schema_version": 3,
     "solution": false,
     "task": false
    }
   },
   "outputs": [
    {
     "name": "stdout",
     "output_type": "stream",
     "text": [
      "Problem 6b Test 1: Success!\n"
     ]
    }
   ],
   "source": [
    "\"Verify the type of c6. (1 mark)\"\n",
    "assert isinstance(c6,np.ndarray) , \"c6 should be a NumPy array\"\n",
    "print(\"Problem 6b Test 1: Success!\")"
   ]
  },
  {
   "cell_type": "code",
   "execution_count": 62,
   "id": "9563b2b7",
   "metadata": {
    "deletable": false,
    "editable": false,
    "nbgrader": {
     "cell_type": "code",
     "checksum": "cc2beac495c779a83e97e4977b9a7cc0",
     "grade": true,
     "grade_id": "cell-46a72e59fbe713c8",
     "locked": true,
     "points": 1,
     "schema_version": 3,
     "solution": false,
     "task": false
    }
   },
   "outputs": [
    {
     "name": "stdout",
     "output_type": "stream",
     "text": [
      "Problem 6b Test 2: Success!\n"
     ]
    }
   ],
   "source": [
    "\"Verify the size of c6. (1 mark)\"\n",
    "assert c6.size == 6 , \"c6 should have length 6.\"\n",
    "print(\"Problem 6b Test 2: Success!\")"
   ]
  },
  {
   "cell_type": "code",
   "execution_count": 63,
   "id": "655b23c6",
   "metadata": {
    "deletable": false,
    "editable": false,
    "nbgrader": {
     "cell_type": "code",
     "checksum": "99a63a835a9c0ae6ea5a16621b02b2d2",
     "grade": true,
     "grade_id": "cell-24afa0588dacde65",
     "locked": true,
     "points": 1,
     "schema_version": 3,
     "solution": false,
     "task": false
    }
   },
   "outputs": [
    {
     "name": "stdout",
     "output_type": "stream",
     "text": [
      "Problem 6b Test 3: Success!\n"
     ]
    }
   ],
   "source": [
    "\"Verify values of c6. This cell contains hidden tests. (1 mark)\"\n",
    "assert np.allclose(c6[0],0.49835226) , \"First coefficient of c6 should be 0.49835226.\"\n",
    "print(\"Problem 6b Test 3: Success!\")"
   ]
  },
  {
   "cell_type": "markdown",
   "id": "66b5a1f6",
   "metadata": {
    "deletable": false,
    "editable": false,
    "nbgrader": {
     "cell_type": "markdown",
     "checksum": "6887dedcd7e02d975cc9ca3c220e64d6",
     "grade": false,
     "grade_id": "cell-830308073a1124c3",
     "locked": true,
     "schema_version": 3,
     "solution": false,
     "task": false
    }
   },
   "source": [
    "Plot the result to see how the function fits the data:"
   ]
  },
  {
   "cell_type": "code",
   "execution_count": 64,
   "id": "8f401217",
   "metadata": {
    "deletable": false,
    "editable": false,
    "nbgrader": {
     "cell_type": "code",
     "checksum": "cc8a20ebabc77ed0e5c5f472271e473d",
     "grade": false,
     "grade_id": "cell-e410e1de08150e6c",
     "locked": true,
     "schema_version": 3,
     "solution": false,
     "task": false
    }
   },
   "outputs": [
    {
     "data": {
      "image/png": "[encoded data removed]",
      "text/plain": [
       "<Figure size 640x480 with 1 Axes>"
      ]
     },
     "metadata": {},
     "output_type": "display_data"
    }
   ],
   "source": [
    "t = [ 0.0, 0.2, 0.4, 0.6, 0.8, 1.0 ]\n",
    "y = [ 0.86198775, 0.42221378, 0.67085031, 0.81337281, 0.06133098, 0.18599908 ]\n",
    "T = np.linspace(0,1,100)\n",
    "Y = sum([c6[k]*np.cos(k*np.pi*T) for k in range(0,len(c6))])\n",
    "plt.plot(T,Y,'r',t,y,'b.'), plt.grid(True)\n",
    "plt.show()"
   ]
  }
 ],
 "metadata": {
  "kernelspec": {
   "display_name": "Python 3 (ipykernel)",
   "language": "python",
   "name": "python3"
  },
  "language_info": {
   "codemirror_mode": {
    "name": "ipython",
    "version": 3
   },
   "file_extension": ".py",
   "mimetype": "text/x-python",
   "name": "python",
   "nbconvert_exporter": "python",
   "pygments_lexer": "ipython3",
   "version": "3.12.4"
  }
 },
 "nbformat": 4,
 "nbformat_minor": 5
}
